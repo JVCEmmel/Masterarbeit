{
 "metadata": {
  "language_info": {
   "codemirror_mode": {
    "name": "ipython",
    "version": 3
   },
   "file_extension": ".py",
   "mimetype": "text/x-python",
   "name": "python",
   "nbconvert_exporter": "python",
   "pygments_lexer": "ipython3",
   "version": "3.8.5-final"
  },
  "orig_nbformat": 2,
  "kernelspec": {
   "name": "python38564bitdetectronff82760adde74d15a2469ae535f0dd6d",
   "display_name": "Python 3.8.5 64-bit ('detectron')",
   "language": "python"
  }
 },
 "nbformat": 4,
 "nbformat_minor": 2,
 "cells": [
  {
   "source": [
    "<h1>serial Predictions</h1>\n",
    "\n",
    "Dieses Notebook möchte zeigen, wie *detectron2* seine Voraussagen für die Klassen von Bildern ermittelt und wie man diese seriell erzeugen, speichern und graphisch auswerten kann.\n",
    "\n",
    "Bezug genommen wird hier auf das Programm \"serialDetection.py\". Es folgen zunächst grundlegende Importe."
   ],
   "cell_type": "markdown",
   "metadata": {}
  },
  {
   "cell_type": "code",
   "execution_count": 3,
   "metadata": {},
   "outputs": [],
   "source": [
    "from detectron2 import model_zoo\n",
    "from detectron2.engine import DefaultPredictor\n",
    "from detectron2.data import MetadataCatalog\n",
    "from detectron2.config import get_cfg\n",
    "import cv2, json"
   ]
  },
  {
   "source": [
    "Im folgenden Schritt geben wir den Ort der zu erkennenden Bilder an. Ziel des Ganzen ist auch, dass später der gesamte Datensatz so eingelesen werden kann."
   ],
   "cell_type": "markdown",
   "metadata": {}
  },
  {
   "cell_type": "code",
   "execution_count": 4,
   "metadata": {},
   "outputs": [
    {
     "output_type": "stream",
     "name": "stdout",
     "text": [
      "['acht1_036.jpg', 'acht1_067.jpg', 'acht1_100.jpg', 'acht1_158.jpg', 'acht2_024.jpg', 'acht2_085.jpg', 'acht2_140.jpg', 'acht2_153.jpg', 'acht2_242.jpg', 'acht5_030.jpg']\n"
     ]
    }
   ],
   "source": [
    "path = \"/home/julius/PowerFolders/Masterarbeit/Bilder/1_Datensaetze/first_annotation_dataset/\"\n",
    "    \n",
    "image_list = sorted([picture for picture in os.listdir(path) if picture.endswith(\".jpg\")])\n",
    "\n",
    "print(image_list)\n"
   ]
  },
  {
   "source": [
    "Die nun folgenden Zeilen bestimmen die Konfiguration des Modells und sollten sich in allen Versuchsanordnungen ähneln.\n",
    "Entscheidend ist hierbei das initialisieren der Gewichte. Dieses Projekt hat nciht den Anspruch ein Modell von Grundauf neu zu trainieren. Vielmehr wird auf ein bereits bestehendes Modell aufgebaut.  \n",
    "Grundlage für die in dieser Arbeit beschriebenen Modelle wird das Mask R-CNN für COCO Instance Segmentation \"R50-FPN\", welches in *detectron2* enthalten ist, sein. Eine genauere Dokumentation können sie [hier](https://github.com/facebookresearch/detectron2/blob/master/MODEL_ZOO.md) finden. Wichtig für uns ist, dass es bei einer geringen Trainingszeit relativ gute Ergebnisse liefert."
   ],
   "cell_type": "markdown",
   "metadata": {}
  },
  {
   "cell_type": "code",
   "execution_count": 5,
   "metadata": {},
   "outputs": [],
   "source": [
    "cfg = get_cfg()\n",
    "\n",
    "cfg.merge_from_file(model_zoo.get_config_file(\"COCO-InstanceSegmentation/mask_rcnn_R_50_FPN_3x.yaml\"))\n",
    "cfg.MODEL.ROI_HEADS.SCORE_THRESH_TEST = 0.\n",
    "cfg.MODEL.WEIGHTS = model_zoo.get_checkpoint_url(\"COCO-InstanceSegmentation/mask_rcnn_R_50_FPN_3x.yaml\")\n",
    "\n",
    "predictor = DefaultPredictor(cfg)"
   ]
  },
  {
   "source": [
    "In der letzten Zeile des obigen Codeblocks wurde mit Hilfe der Konfiguration der Predictor gebaut. Dieser ist das Kernelement dieses Abschnitts und erzeugt die Ergebnisse, die wir dann analysieren wollen.  \n",
    "Im nächsten Abschnitt wird nun über jedes Bild im Zielordner Iteriert und ein output erzeugt."
   ],
   "cell_type": "markdown",
   "metadata": {}
  },
  {
   "cell_type": "code",
   "execution_count": 6,
   "metadata": {},
   "outputs": [],
   "source": [
    "outputs = {}\n",
    "for image in image_list:\n",
    "    img = cv2.imread(path + image)\n",
    "    outputs[image] = predictor(img)\n"
   ]
  },
  {
   "source": [
    "In diesen Outputs befinden sich nun für jedes Bild die einzelnen Instanzen - Die Klassen Indices und die dazugehörigen Wahrscheinlichkeiten.  \n",
    "Bevor wir nun mit dem Speichern der Werte fortfahren machen wir noch einen kleinen Exkurs für die Konfiguration. In der Konfiguration werden auch die Klassennamen vorgegeben. Eine Liste der Klassennamen kann man sich mit folgendem Befehl anzeigen lassen:"
   ],
   "cell_type": "markdown",
   "metadata": {}
  },
  {
   "cell_type": "code",
   "execution_count": 7,
   "metadata": {},
   "outputs": [
    {
     "output_type": "stream",
     "name": "stdout",
     "text": [
      "['person', 'bicycle', 'car', 'motorcycle', 'airplane', 'bus', 'train', 'truck', 'boat', 'traffic light', 'fire hydrant', 'stop sign', 'parking meter', 'bench', 'bird', 'cat', 'dog', 'horse', 'sheep', 'cow', 'elephant', 'bear', 'zebra', 'giraffe', 'backpack', 'umbrella', 'handbag', 'tie', 'suitcase', 'frisbee', 'skis', 'snowboard', 'sports ball', 'kite', 'baseball bat', 'baseball glove', 'skateboard', 'surfboard', 'tennis racket', 'bottle', 'wine glass', 'cup', 'fork', 'knife', 'spoon', 'bowl', 'banana', 'apple', 'sandwich', 'orange', 'broccoli', 'carrot', 'hot dog', 'pizza', 'donut', 'cake', 'chair', 'couch', 'potted plant', 'bed', 'dining table', 'toilet', 'tv', 'laptop', 'mouse', 'remote', 'keyboard', 'cell phone', 'microwave', 'oven', 'toaster', 'sink', 'refrigerator', 'book', 'clock', 'vase', 'scissors', 'teddy bear', 'hair drier', 'toothbrush']\n"
     ]
    }
   ],
   "source": [
    "print(MetadataCatalog.get(cfg.DATASETS.TRAIN[0]).thing_classes)\n",
    "class_names = MetadataCatalog.get(cfg.DATASETS.TRAIN[0]).thing_classes\n"
   ]
  },
  {
   "source": [
    "speichern wir nun in anderen Variablen.  \n",
    "Hierbei wollen wir das generelle Format des Outputs ein wenig anpassen. Wir behalten die Grundstruktur mit den Bildern als Hauptschlüsseln bei. Den einzelnen Schlüsseln geben wir dann jeweils ein Dictionary mit den Schlüsseln zu jeder \"Instance\". Diese besitzen wiederum Dictionarys mit den jeweiligen Schlüssel-Wert-Paaren für \"Class\" \"Class_name\" und \"Score\"."
   ],
   "cell_type": "markdown",
   "metadata": {}
  },
  {
   "cell_type": "code",
   "execution_count": 8,
   "metadata": {},
   "outputs": [],
   "source": [
    "converted_outputs = {}\n"
   ]
  },
  {
   "cell_type": "code",
   "execution_count": 9,
   "metadata": {
    "tags": []
   },
   "outputs": [],
   "source": [
    "for image in image_list:\n",
    "    converted_outputs[image] = {}\n",
    "    for element in range(len(outputs[image][\"instances\"].scores)):\n",
    "        converted_outputs[image][\"instance{}\".format(element)] = {}\n",
    "        converted_outputs[image][\"instance{}\".format(element)][\"Class\"] = outputs[image][\"instances\"].pred_classes[element].item()\n",
    "        converted_outputs[image][\"instance{}\".format(element)][\"Class_name\"] = class_names[converted_outputs[image][\"instance{}\".format(element)][\"Class\"]]\n",
    "        converted_outputs[image][\"instance{}\".format(element)][\"Score\"] = outputs[image][\"instances\"].scores[element].item()"
   ]
  },
  {
   "source": [
    "Wir haben nun Angaben für jedes Bild, was der Algorithmus erkannt haben will und wie sicher er sich dabei war.  \n",
    "Wenn man nun davon ausgeht, dass man diese Ergebnisse von allen Bildern bekommen wird, so lassen sich daraus erste Ableitungen herführen. So kann man ermitteln, wie viele Instanzen von Klassen er über einem bestimmten Schwellwert erkannt hat; Wie hoch die durchschnittliche Genauigkeit für eine Klasse mit und ohne Schwellwert ist. Was man jedoch damit überhaupt nicht schließen kann ist, ob er einen Gegenstand fälschlicherweise als diesen bezeichnet und ob er Gegenstände aus dieser Kategorie nicht erkannt hat. Ebenso lassen sich keine Aussagen über die Bounding Boxes oder die Segmentierung treffen - auch wenn man die Daten darüber gespeichert hätte.  \n",
    "Hierfür bedarf es eines Datensatzes, der angibt was wo zu erkennen ist und auf dessen Grundlage man Annotationen bewerten kann. Dieser liegt aber für den gesamten Datensatz nicht vor und würde sich im Rahmen dieser Arbeit nicht in einer ausreichenden Größe anfertigen lassen (Ausreichend meint hier wenigstens >10%, was 1.500 Bildern entsprechen würde). Es bedarf also einem Behelf.  \n",
    "*detectron2* liefert neben dem allgemeinen Predictor auch einen allgemeinen Evaluator. Dieser benötigt jedoch wie oben beschrieben einen Datensatz mit dem er Verifizieren kann. Der Evaluator wird dazu dienen einen doppelten Boden für die Analysen einzuziehen. Dieser ist von nöten, da durch das Vorgehen und die oben beschriebene Problematik ein bruch in der Arbeitsweise vorhanden ist. Möchte man das untrainierte Modell am Datensatz testen, kann man nicht mit einer sogenanten Ground Truth oder eben dem Datensatz für die Validierung die Ergebnisse verifizieren. Man ist also auf die wenigen Daten, die dieses Notebook liefet angewiesen. In der nächsten Phase ist nun angedacht das Modell auf einen anderen COCO-Datensatz zu trainieren. Konkret geht es um den [COCO-Text-Datensatz](https://bgshih.github.io/cocotext/), welcher schon Annotationen für Bild und Text-Erkennung in einem liefert. Dieses Model könnte man dann sowohl mit diesen Predictions rudimentär auswerten und hätte gegebenenfalls Vergleichswerte zur ersten Phase, als auch mit dem allgemeinen Evaluator neue, präzisere Erkenntnisse gewinnen. In einer dritten Phase könnte dann auf einem kleinen Datensatz das zweite Modell weiter auf die Plakatsammlung angepasst werden. In dieser Phase wären wieder beide Evualationsmethoden anwendbar und könnten miteinander verglichen werden. In einer weiteren Versuchsanordnung könnte man ebenfalls die letzten beiden Phasen vertauschen und ermitteln ob es qualitative Unterschiede in den beiden Ergebnissen gibt. Ebenso könnte jeweils nur eine der beiden Phasen verwendet werden.\n",
    "\n",
    "Um dieses Notebook abzuschließen wurde im folgenden das Dictionary von Werten befreit, die unter einer Wahrscheinlichkeit von 50% lagen. Die 50% ergeben sich aus der Verfahrensweise von *detectron2*. Hier werden in der Visualisierung der Annotationsergebnisse auch nur die Elemente berücksichtigt, die eine Wahrscheinlichkeit von über 50% besitzen."
   ],
   "cell_type": "markdown",
   "metadata": {}
  },
  {
   "cell_type": "code",
   "execution_count": 16,
   "metadata": {},
   "outputs": [],
   "source": [
    "to_be_deleted = {}\n",
    "for image in converted_outputs:\n",
    "    to_be_deleted[image] = []\n",
    "    for instance in converted_outputs[image]:\n",
    "        if converted_outputs[image][instance][\"Score\"] < 0.50:\n",
    "            to_be_deleted[image].append(instance)\n",
    "for image in to_be_deleted:\n",
    "    for element in to_be_deleted[image]:\n",
    "        converted_outputs[image].pop(element)"
   ]
  },
  {
   "source": [
    "Aus diesen so umgewandelten Ergebnissen sollen nun die statistischen Werte erhoben werden. Die folgenden Zeilen Code sammeln hierfür die Klassennamen und ihre Häufigkeit in einer absoluten Zahl, die durchschnittliche Wahrscheinlichkeit für jede Klasse, sowie die Anzahl der Plakate auf denen Nichts erkannt worden ist."
   ],
   "cell_type": "markdown",
   "metadata": {}
  },
  {
   "cell_type": "code",
   "execution_count": 19,
   "metadata": {},
   "outputs": [
    {
     "output_type": "stream",
     "name": "stdout",
     "text": [
      "{'horse': 1, 'person': 12, 'bottle': 1, 'clock': 3, 'vase': 1, 'teddy bear': 1, 'kite': 2}\n{'horse': 0.9984381794929504, 'person': 0.8588288178046545, 'bottle': 0.9010133147239685, 'clock': 0.6946642597516378, 'vase': 0.5634121894836426, 'teddy bear': 0.587200939655304, 'kite': 0.622450053691864}\n1\n"
     ]
    }
   ],
   "source": [
    "detected_names = {} \n",
    "detected_scores = {}\n",
    "zero_detections = 0\n",
    "\n",
    "for image in converted_outputs:\n",
    "    if len(converted_outputs[image]) == 0:\n",
    "        zero_detections += 1\n",
    "    for instance in converted_outputs[image]:\n",
    "        if converted_outputs[image][instance][\"Class_name\"] not in detected_names:\n",
    "            detected_names[converted_outputs[image][instance][\"Class_name\"]] = 1\n",
    "            detected_scores[converted_outputs[image][instance][\"Class_name\"]] = converted_outputs[image][instance][\"Score\"]\n",
    "        else:\n",
    "            detected_names[converted_outputs[image][instance][\"Class_name\"]] += 1\n",
    "            detected_scores[converted_outputs[image][instance][\"Class_name\"]] += converted_outputs[image][instance][\"Score\"]\n",
    "\n",
    "for element in detected_scores:\n",
    "    detected_scores[element] = detected_scores[element]/detected_names[element]\n",
    "\n",
    "print(detected_names)\n",
    "print(detected_scores)\n",
    "print(zero_detections)"
   ]
  },
  {
   "source": [
    "%matplotlib inline\n",
    "\n",
    "import matplotlib.pyplot as plt\n",
    "\n",
    "fig, axs = plt.subplots(1, 2, constrained_layout=False)\n",
    "axs[0] = plt.bar(range(len(detected_names)), list(detected_names.values()), align=\"center\")\n",
    "axs[0] = plt.xticks(range(len(detected_names)), list(detected_names.keys()))\n",
    "axs[1] = plt.bar(range(len(detected_scores)), list(detected_scores.values()), align=\"center\")\n",
    "axs[1] = plt.xticks(range(len(detected_scores)), list(detected_scores.keys()))\n",
    "plt.show()"
   ],
   "cell_type": "code",
   "metadata": {},
   "execution_count": 45,
   "outputs": [
    {
     "output_type": "error",
     "ename": "TypeError",
     "evalue": "float() argument must be a string or a number, not 'Rectangle'",
     "traceback": [
      "\u001b[0;31m---------------------------------------------------------------------------\u001b[0m",
      "\u001b[0;31mTypeError\u001b[0m                                 Traceback (most recent call last)",
      "\u001b[0;32m<ipython-input-45-c8fc85bbfb9b>\u001b[0m in \u001b[0;36m<module>\u001b[0;34m\u001b[0m\n\u001b[1;32m      4\u001b[0m \u001b[0;34m\u001b[0m\u001b[0m\n\u001b[1;32m      5\u001b[0m \u001b[0mfig\u001b[0m\u001b[0;34m,\u001b[0m \u001b[0maxs\u001b[0m \u001b[0;34m=\u001b[0m \u001b[0mplt\u001b[0m\u001b[0;34m.\u001b[0m\u001b[0msubplots\u001b[0m\u001b[0;34m(\u001b[0m\u001b[0;36m1\u001b[0m\u001b[0;34m,\u001b[0m \u001b[0;36m2\u001b[0m\u001b[0;34m,\u001b[0m \u001b[0mconstrained_layout\u001b[0m\u001b[0;34m=\u001b[0m\u001b[0;32mFalse\u001b[0m\u001b[0;34m)\u001b[0m\u001b[0;34m\u001b[0m\u001b[0;34m\u001b[0m\u001b[0m\n\u001b[0;32m----> 6\u001b[0;31m \u001b[0maxs\u001b[0m\u001b[0;34m[\u001b[0m\u001b[0;36m0\u001b[0m\u001b[0;34m]\u001b[0m\u001b[0;34m.\u001b[0m\u001b[0mplot\u001b[0m\u001b[0;34m(\u001b[0m\u001b[0mplt\u001b[0m\u001b[0;34m.\u001b[0m\u001b[0mbar\u001b[0m\u001b[0;34m(\u001b[0m\u001b[0mrange\u001b[0m\u001b[0;34m(\u001b[0m\u001b[0mlen\u001b[0m\u001b[0;34m(\u001b[0m\u001b[0mdetected_names\u001b[0m\u001b[0;34m)\u001b[0m\u001b[0;34m)\u001b[0m\u001b[0;34m,\u001b[0m \u001b[0mlist\u001b[0m\u001b[0;34m(\u001b[0m\u001b[0mdetected_names\u001b[0m\u001b[0;34m.\u001b[0m\u001b[0mvalues\u001b[0m\u001b[0;34m(\u001b[0m\u001b[0;34m)\u001b[0m\u001b[0;34m)\u001b[0m\u001b[0;34m,\u001b[0m \u001b[0malign\u001b[0m\u001b[0;34m=\u001b[0m\u001b[0;34m\"center\"\u001b[0m\u001b[0;34m)\u001b[0m\u001b[0;34m)\u001b[0m\u001b[0;34m\u001b[0m\u001b[0;34m\u001b[0m\u001b[0m\n\u001b[0m\u001b[1;32m      7\u001b[0m \u001b[0maxs\u001b[0m\u001b[0;34m[\u001b[0m\u001b[0;36m0\u001b[0m\u001b[0;34m]\u001b[0m\u001b[0;34m.\u001b[0m\u001b[0mplot\u001b[0m\u001b[0;34m(\u001b[0m\u001b[0mplt\u001b[0m\u001b[0;34m.\u001b[0m\u001b[0mxticks\u001b[0m\u001b[0;34m(\u001b[0m\u001b[0mrange\u001b[0m\u001b[0;34m(\u001b[0m\u001b[0mlen\u001b[0m\u001b[0;34m(\u001b[0m\u001b[0mdetected_names\u001b[0m\u001b[0;34m)\u001b[0m\u001b[0;34m)\u001b[0m\u001b[0;34m,\u001b[0m \u001b[0mlist\u001b[0m\u001b[0;34m(\u001b[0m\u001b[0mdetected_names\u001b[0m\u001b[0;34m.\u001b[0m\u001b[0mkeys\u001b[0m\u001b[0;34m(\u001b[0m\u001b[0;34m)\u001b[0m\u001b[0;34m)\u001b[0m\u001b[0;34m)\u001b[0m\u001b[0;34m)\u001b[0m\u001b[0;34m\u001b[0m\u001b[0;34m\u001b[0m\u001b[0m\n\u001b[1;32m      8\u001b[0m \u001b[0maxs\u001b[0m\u001b[0;34m[\u001b[0m\u001b[0;36m1\u001b[0m\u001b[0;34m]\u001b[0m\u001b[0;34m.\u001b[0m\u001b[0mplot\u001b[0m\u001b[0;34m(\u001b[0m\u001b[0mplt\u001b[0m\u001b[0;34m.\u001b[0m\u001b[0mbar\u001b[0m\u001b[0;34m(\u001b[0m\u001b[0mrange\u001b[0m\u001b[0;34m(\u001b[0m\u001b[0mlen\u001b[0m\u001b[0;34m(\u001b[0m\u001b[0mdetected_scores\u001b[0m\u001b[0;34m)\u001b[0m\u001b[0;34m)\u001b[0m\u001b[0;34m,\u001b[0m \u001b[0mlist\u001b[0m\u001b[0;34m(\u001b[0m\u001b[0mdetected_scores\u001b[0m\u001b[0;34m.\u001b[0m\u001b[0mvalues\u001b[0m\u001b[0;34m(\u001b[0m\u001b[0;34m)\u001b[0m\u001b[0;34m)\u001b[0m\u001b[0;34m,\u001b[0m \u001b[0malign\u001b[0m\u001b[0;34m=\u001b[0m\u001b[0;34m\"center\"\u001b[0m\u001b[0;34m)\u001b[0m\u001b[0;34m)\u001b[0m\u001b[0;34m\u001b[0m\u001b[0;34m\u001b[0m\u001b[0m\n",
      "\u001b[0;32m~/venv/detectron/lib/python3.8/site-packages/matplotlib/axes/_axes.py\u001b[0m in \u001b[0;36mplot\u001b[0;34m(self, scalex, scaley, data, *args, **kwargs)\u001b[0m\n\u001b[1;32m   1743\u001b[0m         \u001b[0mlines\u001b[0m \u001b[0;34m=\u001b[0m \u001b[0;34m[\u001b[0m\u001b[0;34m*\u001b[0m\u001b[0mself\u001b[0m\u001b[0;34m.\u001b[0m\u001b[0m_get_lines\u001b[0m\u001b[0;34m(\u001b[0m\u001b[0;34m*\u001b[0m\u001b[0margs\u001b[0m\u001b[0;34m,\u001b[0m \u001b[0mdata\u001b[0m\u001b[0;34m=\u001b[0m\u001b[0mdata\u001b[0m\u001b[0;34m,\u001b[0m \u001b[0;34m**\u001b[0m\u001b[0mkwargs\u001b[0m\u001b[0;34m)\u001b[0m\u001b[0;34m]\u001b[0m\u001b[0;34m\u001b[0m\u001b[0;34m\u001b[0m\u001b[0m\n\u001b[1;32m   1744\u001b[0m         \u001b[0;32mfor\u001b[0m \u001b[0mline\u001b[0m \u001b[0;32min\u001b[0m \u001b[0mlines\u001b[0m\u001b[0;34m:\u001b[0m\u001b[0;34m\u001b[0m\u001b[0;34m\u001b[0m\u001b[0m\n\u001b[0;32m-> 1745\u001b[0;31m             \u001b[0mself\u001b[0m\u001b[0;34m.\u001b[0m\u001b[0madd_line\u001b[0m\u001b[0;34m(\u001b[0m\u001b[0mline\u001b[0m\u001b[0;34m)\u001b[0m\u001b[0;34m\u001b[0m\u001b[0;34m\u001b[0m\u001b[0m\n\u001b[0m\u001b[1;32m   1746\u001b[0m         \u001b[0mself\u001b[0m\u001b[0;34m.\u001b[0m\u001b[0m_request_autoscale_view\u001b[0m\u001b[0;34m(\u001b[0m\u001b[0mscalex\u001b[0m\u001b[0;34m=\u001b[0m\u001b[0mscalex\u001b[0m\u001b[0;34m,\u001b[0m \u001b[0mscaley\u001b[0m\u001b[0;34m=\u001b[0m\u001b[0mscaley\u001b[0m\u001b[0;34m)\u001b[0m\u001b[0;34m\u001b[0m\u001b[0;34m\u001b[0m\u001b[0m\n\u001b[1;32m   1747\u001b[0m         \u001b[0;32mreturn\u001b[0m \u001b[0mlines\u001b[0m\u001b[0;34m\u001b[0m\u001b[0;34m\u001b[0m\u001b[0m\n",
      "\u001b[0;32m~/venv/detectron/lib/python3.8/site-packages/matplotlib/axes/_base.py\u001b[0m in \u001b[0;36madd_line\u001b[0;34m(self, line)\u001b[0m\n\u001b[1;32m   1967\u001b[0m             \u001b[0mline\u001b[0m\u001b[0;34m.\u001b[0m\u001b[0mset_clip_path\u001b[0m\u001b[0;34m(\u001b[0m\u001b[0mself\u001b[0m\u001b[0;34m.\u001b[0m\u001b[0mpatch\u001b[0m\u001b[0;34m)\u001b[0m\u001b[0;34m\u001b[0m\u001b[0;34m\u001b[0m\u001b[0m\n\u001b[1;32m   1968\u001b[0m \u001b[0;34m\u001b[0m\u001b[0m\n\u001b[0;32m-> 1969\u001b[0;31m         \u001b[0mself\u001b[0m\u001b[0;34m.\u001b[0m\u001b[0m_update_line_limits\u001b[0m\u001b[0;34m(\u001b[0m\u001b[0mline\u001b[0m\u001b[0;34m)\u001b[0m\u001b[0;34m\u001b[0m\u001b[0;34m\u001b[0m\u001b[0m\n\u001b[0m\u001b[1;32m   1970\u001b[0m         \u001b[0;32mif\u001b[0m \u001b[0;32mnot\u001b[0m \u001b[0mline\u001b[0m\u001b[0;34m.\u001b[0m\u001b[0mget_label\u001b[0m\u001b[0;34m(\u001b[0m\u001b[0;34m)\u001b[0m\u001b[0;34m:\u001b[0m\u001b[0;34m\u001b[0m\u001b[0;34m\u001b[0m\u001b[0m\n\u001b[1;32m   1971\u001b[0m             \u001b[0mline\u001b[0m\u001b[0;34m.\u001b[0m\u001b[0mset_label\u001b[0m\u001b[0;34m(\u001b[0m\u001b[0;34m'_line%d'\u001b[0m \u001b[0;34m%\u001b[0m \u001b[0mlen\u001b[0m\u001b[0;34m(\u001b[0m\u001b[0mself\u001b[0m\u001b[0;34m.\u001b[0m\u001b[0mlines\u001b[0m\u001b[0;34m)\u001b[0m\u001b[0;34m)\u001b[0m\u001b[0;34m\u001b[0m\u001b[0;34m\u001b[0m\u001b[0m\n",
      "\u001b[0;32m~/venv/detectron/lib/python3.8/site-packages/matplotlib/axes/_base.py\u001b[0m in \u001b[0;36m_update_line_limits\u001b[0;34m(self, line)\u001b[0m\n\u001b[1;32m   1989\u001b[0m         \u001b[0mFigures\u001b[0m \u001b[0mout\u001b[0m \u001b[0mthe\u001b[0m \u001b[0mdata\u001b[0m \u001b[0mlimit\u001b[0m \u001b[0mof\u001b[0m \u001b[0mthe\u001b[0m \u001b[0mgiven\u001b[0m \u001b[0mline\u001b[0m\u001b[0;34m,\u001b[0m \u001b[0mupdating\u001b[0m \u001b[0mself\u001b[0m\u001b[0;34m.\u001b[0m\u001b[0mdataLim\u001b[0m\u001b[0;34m.\u001b[0m\u001b[0;34m\u001b[0m\u001b[0;34m\u001b[0m\u001b[0m\n\u001b[1;32m   1990\u001b[0m         \"\"\"\n\u001b[0;32m-> 1991\u001b[0;31m         \u001b[0mpath\u001b[0m \u001b[0;34m=\u001b[0m \u001b[0mline\u001b[0m\u001b[0;34m.\u001b[0m\u001b[0mget_path\u001b[0m\u001b[0;34m(\u001b[0m\u001b[0;34m)\u001b[0m\u001b[0;34m\u001b[0m\u001b[0;34m\u001b[0m\u001b[0m\n\u001b[0m\u001b[1;32m   1992\u001b[0m         \u001b[0;32mif\u001b[0m \u001b[0mpath\u001b[0m\u001b[0;34m.\u001b[0m\u001b[0mvertices\u001b[0m\u001b[0;34m.\u001b[0m\u001b[0msize\u001b[0m \u001b[0;34m==\u001b[0m \u001b[0;36m0\u001b[0m\u001b[0;34m:\u001b[0m\u001b[0;34m\u001b[0m\u001b[0;34m\u001b[0m\u001b[0m\n\u001b[1;32m   1993\u001b[0m             \u001b[0;32mreturn\u001b[0m\u001b[0;34m\u001b[0m\u001b[0;34m\u001b[0m\u001b[0m\n",
      "\u001b[0;32m~/venv/detectron/lib/python3.8/site-packages/matplotlib/lines.py\u001b[0m in \u001b[0;36mget_path\u001b[0;34m(self)\u001b[0m\n\u001b[1;32m   1009\u001b[0m         \"\"\"\n\u001b[1;32m   1010\u001b[0m         \u001b[0;32mif\u001b[0m \u001b[0mself\u001b[0m\u001b[0;34m.\u001b[0m\u001b[0m_invalidy\u001b[0m \u001b[0;32mor\u001b[0m \u001b[0mself\u001b[0m\u001b[0;34m.\u001b[0m\u001b[0m_invalidx\u001b[0m\u001b[0;34m:\u001b[0m\u001b[0;34m\u001b[0m\u001b[0;34m\u001b[0m\u001b[0m\n\u001b[0;32m-> 1011\u001b[0;31m             \u001b[0mself\u001b[0m\u001b[0;34m.\u001b[0m\u001b[0mrecache\u001b[0m\u001b[0;34m(\u001b[0m\u001b[0;34m)\u001b[0m\u001b[0;34m\u001b[0m\u001b[0;34m\u001b[0m\u001b[0m\n\u001b[0m\u001b[1;32m   1012\u001b[0m         \u001b[0;32mreturn\u001b[0m \u001b[0mself\u001b[0m\u001b[0;34m.\u001b[0m\u001b[0m_path\u001b[0m\u001b[0;34m\u001b[0m\u001b[0;34m\u001b[0m\u001b[0m\n\u001b[1;32m   1013\u001b[0m \u001b[0;34m\u001b[0m\u001b[0m\n",
      "\u001b[0;32m~/venv/detectron/lib/python3.8/site-packages/matplotlib/lines.py\u001b[0m in \u001b[0;36mrecache\u001b[0;34m(self, always)\u001b[0m\n\u001b[1;32m    656\u001b[0m         \u001b[0;32mif\u001b[0m \u001b[0malways\u001b[0m \u001b[0;32mor\u001b[0m \u001b[0mself\u001b[0m\u001b[0;34m.\u001b[0m\u001b[0m_invalidy\u001b[0m\u001b[0;34m:\u001b[0m\u001b[0;34m\u001b[0m\u001b[0;34m\u001b[0m\u001b[0m\n\u001b[1;32m    657\u001b[0m             \u001b[0myconv\u001b[0m \u001b[0;34m=\u001b[0m \u001b[0mself\u001b[0m\u001b[0;34m.\u001b[0m\u001b[0mconvert_yunits\u001b[0m\u001b[0;34m(\u001b[0m\u001b[0mself\u001b[0m\u001b[0;34m.\u001b[0m\u001b[0m_yorig\u001b[0m\u001b[0;34m)\u001b[0m\u001b[0;34m\u001b[0m\u001b[0;34m\u001b[0m\u001b[0m\n\u001b[0;32m--> 658\u001b[0;31m             \u001b[0my\u001b[0m \u001b[0;34m=\u001b[0m \u001b[0m_to_unmasked_float_array\u001b[0m\u001b[0;34m(\u001b[0m\u001b[0myconv\u001b[0m\u001b[0;34m)\u001b[0m\u001b[0;34m.\u001b[0m\u001b[0mravel\u001b[0m\u001b[0;34m(\u001b[0m\u001b[0;34m)\u001b[0m\u001b[0;34m\u001b[0m\u001b[0;34m\u001b[0m\u001b[0m\n\u001b[0m\u001b[1;32m    659\u001b[0m         \u001b[0;32melse\u001b[0m\u001b[0;34m:\u001b[0m\u001b[0;34m\u001b[0m\u001b[0;34m\u001b[0m\u001b[0m\n\u001b[1;32m    660\u001b[0m             \u001b[0my\u001b[0m \u001b[0;34m=\u001b[0m \u001b[0mself\u001b[0m\u001b[0;34m.\u001b[0m\u001b[0m_y\u001b[0m\u001b[0;34m\u001b[0m\u001b[0;34m\u001b[0m\u001b[0m\n",
      "\u001b[0;32m~/venv/detectron/lib/python3.8/site-packages/matplotlib/cbook/__init__.py\u001b[0m in \u001b[0;36m_to_unmasked_float_array\u001b[0;34m(x)\u001b[0m\n\u001b[1;32m   1287\u001b[0m         \u001b[0;32mreturn\u001b[0m \u001b[0mnp\u001b[0m\u001b[0;34m.\u001b[0m\u001b[0mma\u001b[0m\u001b[0;34m.\u001b[0m\u001b[0masarray\u001b[0m\u001b[0;34m(\u001b[0m\u001b[0mx\u001b[0m\u001b[0;34m,\u001b[0m \u001b[0mfloat\u001b[0m\u001b[0;34m)\u001b[0m\u001b[0;34m.\u001b[0m\u001b[0mfilled\u001b[0m\u001b[0;34m(\u001b[0m\u001b[0mnp\u001b[0m\u001b[0;34m.\u001b[0m\u001b[0mnan\u001b[0m\u001b[0;34m)\u001b[0m\u001b[0;34m\u001b[0m\u001b[0;34m\u001b[0m\u001b[0m\n\u001b[1;32m   1288\u001b[0m     \u001b[0;32melse\u001b[0m\u001b[0;34m:\u001b[0m\u001b[0;34m\u001b[0m\u001b[0;34m\u001b[0m\u001b[0m\n\u001b[0;32m-> 1289\u001b[0;31m         \u001b[0;32mreturn\u001b[0m \u001b[0mnp\u001b[0m\u001b[0;34m.\u001b[0m\u001b[0masarray\u001b[0m\u001b[0;34m(\u001b[0m\u001b[0mx\u001b[0m\u001b[0;34m,\u001b[0m \u001b[0mfloat\u001b[0m\u001b[0;34m)\u001b[0m\u001b[0;34m\u001b[0m\u001b[0;34m\u001b[0m\u001b[0m\n\u001b[0m\u001b[1;32m   1290\u001b[0m \u001b[0;34m\u001b[0m\u001b[0m\n\u001b[1;32m   1291\u001b[0m \u001b[0;34m\u001b[0m\u001b[0m\n",
      "\u001b[0;32m~/venv/detectron/lib/python3.8/site-packages/numpy/core/_asarray.py\u001b[0m in \u001b[0;36masarray\u001b[0;34m(a, dtype, order)\u001b[0m\n\u001b[1;32m     81\u001b[0m \u001b[0;34m\u001b[0m\u001b[0m\n\u001b[1;32m     82\u001b[0m     \"\"\"\n\u001b[0;32m---> 83\u001b[0;31m     \u001b[0;32mreturn\u001b[0m \u001b[0marray\u001b[0m\u001b[0;34m(\u001b[0m\u001b[0ma\u001b[0m\u001b[0;34m,\u001b[0m \u001b[0mdtype\u001b[0m\u001b[0;34m,\u001b[0m \u001b[0mcopy\u001b[0m\u001b[0;34m=\u001b[0m\u001b[0;32mFalse\u001b[0m\u001b[0;34m,\u001b[0m \u001b[0morder\u001b[0m\u001b[0;34m=\u001b[0m\u001b[0morder\u001b[0m\u001b[0;34m)\u001b[0m\u001b[0;34m\u001b[0m\u001b[0;34m\u001b[0m\u001b[0m\n\u001b[0m\u001b[1;32m     84\u001b[0m \u001b[0;34m\u001b[0m\u001b[0m\n\u001b[1;32m     85\u001b[0m \u001b[0;34m\u001b[0m\u001b[0m\n",
      "\u001b[0;31mTypeError\u001b[0m: float() argument must be a string or a number, not 'Rectangle'"
     ]
    }
   ]
  },
  {
   "source": [
    "Die beiden folgenden Blöcke dienen der Sicherung der Daten"
   ],
   "cell_type": "markdown",
   "metadata": {}
  },
  {
   "cell_type": "code",
   "execution_count": 17,
   "metadata": {},
   "outputs": [],
   "source": [
    "with open(path + \"converted_outputs.json\", \"w\") as output_file:\n",
    "    json.dump(converted_outputs, output_file, indent=4)"
   ]
  },
  {
   "cell_type": "code",
   "execution_count": 55,
   "metadata": {},
   "outputs": [],
   "source": [
    "with open(path + \"outputs.txt\", \"w\") as output_file:\n",
    "    for line in outputs:\n",
    "        output_file.write(\"{}:{}\\n\".format(line, outputs[line]))"
   ]
  }
 ]
}