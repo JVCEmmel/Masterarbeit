{
 "metadata": {
  "language_info": {
   "codemirror_mode": {
    "name": "ipython",
    "version": 3
   },
   "file_extension": ".py",
   "mimetype": "text/x-python",
   "name": "python",
   "nbconvert_exporter": "python",
   "pygments_lexer": "ipython3",
   "version": "3.8.5"
  },
  "orig_nbformat": 2,
  "kernelspec": {
   "name": "python385jvsc74a57bd0cec0e313780fb6231029959dbab51421cbfb64a4a54d9ecbcee49e045e2bf296",
   "display_name": "Python 3.8.5 64-bit ('detectron': venv)"
  },
  "metadata": {
   "interpreter": {
    "hash": "cec0e313780fb6231029959dbab51421cbfb64a4a54d9ecbcee49e045e2bf296"
   }
  }
 },
 "nbformat": 4,
 "nbformat_minor": 2,
 "cells": [
  {
   "cell_type": "code",
   "execution_count": null,
   "metadata": {},
   "outputs": [],
   "source": [
    "from detectron2.data.datasets import load_coco_json, register_coco_instances\n",
    "from detectron2.data import MetadataCatalog, DatasetCatalog\n",
    "from detectron2.utils.visualizer import Visualizer, ColorMode\n",
    "\n",
    "from detectron2.engine import DefaultTrainer, DefaultPredictor\n",
    "from detectron2.config import get_cfg\n",
    "\n",
    "import matplotlib.pyplot as plt\n",
    "import random, cv2, time, os, shutil, ownlabelme2COCO"
   ]
  },
  {
   "cell_type": "code",
   "execution_count": null,
   "metadata": {},
   "outputs": [],
   "source": [
    "import torch\n",
    "print(torch.__version__)"
   ]
  },
  {
   "source": [
    "Definition des Hauptpfads, der Input-Pfade und der Output-Pfade"
   ],
   "cell_type": "markdown",
   "metadata": {}
  },
  {
   "cell_type": "code",
   "execution_count": null,
   "metadata": {},
   "outputs": [],
   "source": [
    "path = \"/home/julius/Schreibtisch/test_dir/\"\n",
    "\n",
    "dataset_path = path + \"1_Datensaetze/data100/\"\n",
    "train_set_path = dataset_path + \"train_split/\"\n",
    "test_set_path = dataset_path + \"test_split/\"\n",
    "\n",
    "starttime = time.strftime(\"%d,%m,%Y-%H,%M\")\n",
    "model_path = path + \"trained_models/detectron2/{}/\".format(starttime)\n",
    "evaluation_path = path + \"model_evaluation/detectron2/{}/\".format(starttime)"
   ]
  },
  {
   "source": [
    "Erstellen des Datensplits, wenn dies noch nicht vorliegt"
   ],
   "cell_type": "markdown",
   "metadata": {}
  },
  {
   "cell_type": "code",
   "execution_count": null,
   "metadata": {},
   "outputs": [],
   "source": [
    "class uneven_list_error(Exception):\n",
    "    # raised, when the two lists which are needed to seperate the data are uneven.\n",
    "    pass\n",
    "\n",
    "try:\n",
    "    if not os.path.isdir(train_set_path) & os.path.isdir(test_set_path):\n",
    "        os.mkdir(train_set_path)\n",
    "        os.mkdir(test_set_path)\n",
    "    \n",
    "        images = sorted([element for element in os.listdir(dataset_path) if element.lower().endswith(\".jpg\")])\n",
    "        jsons = sorted([element for element in os.listdir(dataset_path) if element.endswith(\".json\")])\n",
    "\n",
    "        if len(images) != len(jsons):\n",
    "            raise uneven_list_error\n",
    "\n",
    "        for count in range(len(images)):\n",
    "            if count % 5 == 0:\n",
    "                shutil.move(dataset_path + images[count], test_set_path + images[count])\n",
    "                shutil.move(dataset_path + jsons[count], test_set_path + jsons[count])\n",
    "            else:\n",
    "                shutil.move(dataset_path + images[count], train_set_path + images[count])\n",
    "                shutil.move(dataset_path + jsons[count], train_set_path + jsons[count])\n",
    "        \n",
    "        ownlabelme2COCO.main(test_set_path)\n",
    "        ownlabelme2COCO.main(train_set_path)\n",
    "\n",
    "except uneven_list_error:\n",
    "    print(\"[ERROR] List lengths don't match! There are {} Images and {} json-Files. Please check directory!\".format(len(images), len(jsons)))"
   ]
  },
  {
   "source": [
    "Einlesen der beiden Datensätze"
   ],
   "cell_type": "markdown",
   "metadata": {}
  },
  {
   "cell_type": "code",
   "execution_count": null,
   "metadata": {},
   "outputs": [],
   "source": [
    "load_coco_json(train_set_path + \"COCO_json/output.json\", train_set_path, \"train_set\")\n",
    "register_coco_instances(\"train_set\", {}, train_set_path + \"COCO_json/output.json\", train_set_path)\n",
    "train_set_metadata = MetadataCatalog.get(\"train_set\")\n",
    "train_set_data = DatasetCatalog.get(\"train_set\")\n",
    "\n",
    "load_coco_json(test_set_path + \"COCO_json/output.json\", test_set_path, \"test_set\")\n",
    "register_coco_instances(\"test_set\", {}, test_set_path + \"COCO_json/output.json\", test_set_path)\n",
    "test_set_metadata = MetadataCatalog.get(\"test_set\")\n",
    "test_set_data = DatasetCatalog.get(\"test_set\")"
   ]
  },
  {
   "source": [
    "probeweises Anschauen des gelesenen Datensatzes"
   ],
   "cell_type": "markdown",
   "metadata": {}
  },
  {
   "cell_type": "code",
   "execution_count": null,
   "metadata": {},
   "outputs": [],
   "source": [
    "random_image = random.sample(train_set_data, 1)[0]\n",
    "image = cv2.imread(random_image[\"file_name\"])\n",
    "visualizer = Visualizer(image, metadata=train_set_metadata, scale=1, instance_mode=ColorMode.SEGMENTATION)\n",
    "visualization = visualizer.draw_dataset_dict(random_image)\n",
    "plt.figure(figsize=(25, 25))\n",
    "plt.imshow(visualization.get_image()[:,:, ::-1])\n",
    "plt.axis(\"off\")"
   ]
  },
  {
   "cell_type": "code",
   "execution_count": null,
   "metadata": {},
   "outputs": [],
   "source": [
    "print(train_set_metadata)"
   ]
  },
  {
   "cell_type": "code",
   "execution_count": null,
   "metadata": {},
   "outputs": [],
   "source": [
    "config = get_cfg()\n",
    "config.merge_from_file(\"/home/julius/detectron2/configs/COCO-InstanceSegmentation/mask_rcnn_R_50_FPN_3x.yaml\")\n",
    "config.DATASETS.TRAIN = (\"train_set\",)\n",
    "config.DATASETS.TEST = (\"test_set\",)\n",
    "config.DATALOADER.NUM_WORKERS = 2\n",
    "config.MODEL.WEIGHTS = \"detectron2://COCO-InstanceSegmentation/mask_rcnn_R_50_FPN_3x/137849600/model_final_f10217.pkl\"\n",
    "config.OUTPUT_DIR = model_path\n",
    "config.SOLVER.IMS_PER_BATCH = 16\n",
    "config.SOLVER.REFERENCE_WORLD_SIZE = 1\n",
    "config.SOLVER.BASE_LR = 0.00025\n",
    "config.SOLVER.MAX_ITER = 300\n",
    "config.MODEL.ROI_HEADS.BATCH_SIZE_PER_IMAGE = 2\n",
    "config.MODEL.ROI_HEADS.NUM_CLASSES = 11\n",
    "config.MODEL.ROI_HEADS.SCORE_THRESH_TEST = 0.5\n",
    "config.NUM_GPUS = 0"
   ]
  },
  {
   "cell_type": "code",
   "execution_count": null,
   "metadata": {},
   "outputs": [],
   "source": [
    "print(config)"
   ]
  },
  {
   "cell_type": "code",
   "execution_count": null,
   "metadata": {},
   "outputs": [],
   "source": [
    "os.makedirs(config.OUTPUT_DIR, exist_ok=True)\n",
    "torch.cuda.empty_cache()\n",
    "trainer = DefaultTrainer(config)\n",
    "trainer.train()"
   ]
  }
 ]
}