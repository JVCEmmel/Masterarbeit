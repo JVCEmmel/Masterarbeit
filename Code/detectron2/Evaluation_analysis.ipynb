{
 "metadata": {
  "language_info": {
   "codemirror_mode": {
    "name": "ipython",
    "version": 3
   },
   "file_extension": ".py",
   "mimetype": "text/x-python",
   "name": "python",
   "nbconvert_exporter": "python",
   "pygments_lexer": "ipython3",
   "version": "3.8.5"
  },
  "orig_nbformat": 2,
  "kernelspec": {
   "name": "python3",
   "display_name": "Python 3",
   "language": "python"
  }
 },
 "nbformat": 4,
 "nbformat_minor": 2,
 "cells": [
  {
   "cell_type": "code",
   "execution_count": 1,
   "metadata": {},
   "outputs": [],
   "source": [
    "path = \"/home/julius/Schreibtisch/test_dir/model_evaluation/detectron2/personData200/05,04,2021-12,42/coco_instances_results.json\""
   ]
  },
  {
   "cell_type": "code",
   "execution_count": 11,
   "metadata": {},
   "outputs": [],
   "source": [
    "test_set_path = \"/home/julius/Schreibtisch/test_dir/1_Datensaetze/personData200/test_split/\"\n",
    "with open(test_set_path + \"COCO_json/output.json\", \"r+\") as input_file:\n",
    "    classes = json.load(input_file)\n",
    "classes_list = [element[\"name\"] for element in classes]\n",
    "classes = classes[\"categories\"]"
   ]
  },
  {
   "cell_type": "code",
   "execution_count": 2,
   "metadata": {},
   "outputs": [],
   "source": [
    "import json\n",
    "with open(path, \"r+\") as input_file:\n",
    "    evaluation = json.load(input_file)"
   ]
  },
  {
   "cell_type": "code",
   "execution_count": 17,
   "metadata": {},
   "outputs": [
    {
     "output_type": "stream",
     "name": "stdout",
     "text": [
      "{'image_id': 0, 'category_id': 1, 'bbox': [657.8016357421875, 2733.769775390625, 1141.3095703125, 141.6943359375], 'score': 0.9812090396881104, 'segmentation': {'size': [3936, 2624], 'counts': 'e^__2f0Uj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_S3'}}\n"
     ]
    }
   ],
   "source": [
    "print(evaluation[0])"
   ]
  },
  {
   "cell_type": "code",
   "execution_count": 20,
   "metadata": {},
   "outputs": [],
   "source": [
    "results_per_image = {}\n",
    "for element in evaluation:\n",
    "    if element[\"image_id\"] not in results_per_image:\n",
    "        results_per_image[element[\"image_id\"]] = [{\"category_name\": classes_list[element[\"category_id\"]], \"score\": element[\"score\"]}]\n",
    "    else:\n",
    "        results_per_image[element[\"image_id\"]].append({\"category_name\": classes_list[element[\"category_id\"]], \"score\": element[\"score\"]})"
   ]
  },
  {
   "cell_type": "code",
   "execution_count": 22,
   "metadata": {},
   "outputs": [
    {
     "output_type": "stream",
     "name": "stdout",
     "text": [
      "[{'category_name': 'logo', 'score': 0.979093074798584}, {'category_name': 'text', 'score': 0.9706501364707947}, {'category_name': 'text', 'score': 0.9637224078178406}, {'category_name': 'logo', 'score': 0.9618149995803833}, {'category_name': 'logo', 'score': 0.9531880617141724}, {'category_name': 'logo', 'score': 0.947983980178833}, {'category_name': 'logo', 'score': 0.9423377513885498}, {'category_name': 'poster', 'score': 0.9417081475257874}, {'category_name': 'text', 'score': 0.9389200806617737}, {'category_name': 'logo', 'score': 0.9312078356742859}, {'category_name': 'logo', 'score': 0.900877833366394}, {'category_name': 'text', 'score': 0.8932900428771973}, {'category_name': 'logo', 'score': 0.8885690569877625}, {'category_name': 'logo', 'score': 0.8793162703514099}, {'category_name': 'logo', 'score': 0.8682512640953064}, {'category_name': 'logo', 'score': 0.8540204167366028}, {'category_name': 'logo', 'score': 0.8290259838104248}, {'category_name': 'logo', 'score': 0.8121288418769836}, {'category_name': 'poster', 'score': 0.7982165813446045}, {'category_name': 'logo', 'score': 0.7923871278762817}, {'category_name': 'text', 'score': 0.770986795425415}, {'category_name': 'logo', 'score': 0.7650705575942993}, {'category_name': 'logo', 'score': 0.741791844367981}, {'category_name': 'logo', 'score': 0.7364169955253601}, {'category_name': 'logo', 'score': 0.7330074906349182}, {'category_name': 'logo', 'score': 0.7152718305587769}, {'category_name': 'logo', 'score': 0.677600622177124}, {'category_name': 'logo', 'score': 0.6623288989067078}, {'category_name': 'logo', 'score': 0.6253288984298706}, {'category_name': 'text', 'score': 0.6156657934188843}, {'category_name': 'text', 'score': 0.573197603225708}, {'category_name': 'logo', 'score': 0.5671511292457581}, {'category_name': 'logo', 'score': 0.5648253560066223}, {'category_name': 'logo', 'score': 0.5623261332511902}, {'category_name': 'logo', 'score': 0.554622232913971}, {'category_name': 'logo', 'score': 0.5546168088912964}, {'category_name': 'logo', 'score': 0.553480327129364}, {'category_name': 'poster', 'score': 0.5230942368507385}, {'category_name': 'poster', 'score': 0.5194793343544006}, {'category_name': 'person', 'score': 0.5117989778518677}, {'category_name': 'logo', 'score': 0.5039398670196533}]\n"
     ]
    }
   ],
   "source": [
    "print(results_per_image[1])"
   ]
  },
  {
   "cell_type": "code",
   "execution_count": null,
   "metadata": {},
   "outputs": [],
   "source": []
  },
  {
   "cell_type": "code",
   "execution_count": 31,
   "metadata": {},
   "outputs": [],
   "source": [
    "category_sums = {}\n",
    "for element in results_per_image:\n",
    "    for detection in results_per_image[element]:\n",
    "        if detection[\"category_name\"] not in category_sums:\n",
    "            category_sums[detection[\"category_name\"]] = 1\n",
    "            category_sums[detection[\"category_name\"] + \"_score\"] = detection[\"score\"]\n",
    "        else:\n",
    "            category_sums[detection[\"category_name\"]] +=1\n",
    "            category_sums[detection[\"category_name\"] + \"_score\"] += detection[\"score\"]\n",
    "\n",
    "category_sums[\"logo_score\"] = category_sums[\"logo_score\"]/category_sums[\"logo\"]\n",
    "category_sums[\"poster_score\"] = category_sums[\"poster_score\"]/category_sums[\"poster\"]\n",
    "category_sums[\"text_score\"] = category_sums[\"text_score\"]/category_sums[\"text\"]\n",
    "category_sums[\"person_score\"] = category_sums[\"person_score\"]/category_sums[\"person\"]"
   ]
  },
  {
   "cell_type": "code",
   "execution_count": 32,
   "metadata": {},
   "outputs": [
    {
     "output_type": "stream",
     "name": "stdout",
     "text": [
      "{'logo': 593, 'logo_score': 0.7374744528863724, 'poster': 85, 'poster_score': 0.7616115044145023, 'text': 151, 'text_score': 0.769514141098553, 'person': 25, 'person_score': 0.5697488713264466}\n"
     ]
    }
   ],
   "source": [
    "print(category_sums)"
   ]
  },
  {
   "cell_type": "code",
   "execution_count": null,
   "metadata": {},
   "outputs": [],
   "source": []
  }
 ]
}