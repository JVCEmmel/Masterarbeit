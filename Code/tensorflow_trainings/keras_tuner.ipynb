{
 "metadata": {
  "language_info": {
   "codemirror_mode": {
    "name": "ipython",
    "version": 3
   },
   "file_extension": ".py",
   "mimetype": "text/x-python",
   "name": "python",
   "nbconvert_exporter": "python",
   "pygments_lexer": "ipython3",
   "version": "3.8.5-final"
  },
  "orig_nbformat": 2,
  "kernelspec": {
   "name": "python38564bittensorflowvenvc5ae079d33a94b2797c1e2237094a841",
   "display_name": "Python 3.8.5 64-bit ('tensorflow': venv)",
   "language": "python"
  }
 },
 "nbformat": 4,
 "nbformat_minor": 2,
 "cells": [
  {
   "source": [
    "# Keras Tuner  \n",
    "Quelle: [tensoflow.org](https://www.tensorflow.org/tutorials/keras/keras_tuner?hl=en)"
   ],
   "cell_type": "markdown",
   "metadata": {}
  },
  {
   "cell_type": "code",
   "execution_count": 11,
   "metadata": {},
   "outputs": [],
   "source": [
    "import tensorflow as tf\n",
    "from tensorflow import keras\n",
    "import kerastuner as kt"
   ]
  },
  {
   "cell_type": "code",
   "execution_count": 12,
   "metadata": {},
   "outputs": [],
   "source": [
    "(img_train, label_train), (img_test, label_test) = keras.datasets.fashion_mnist.load_data()"
   ]
  },
  {
   "cell_type": "code",
   "execution_count": 13,
   "metadata": {},
   "outputs": [],
   "source": [
    "img_train = img_train.astype(\"float32\") / 255.0\n",
    "img_test = img_test.astype(\"float32\") / 255.0"
   ]
  },
  {
   "cell_type": "code",
   "execution_count": 14,
   "metadata": {},
   "outputs": [],
   "source": [
    "def model_builder(hp):\n",
    "    model = keras.Sequential()\n",
    "    model.add(keras.layers.Flatten(input_shape=(28, 28)))\n",
    "\n",
    "    hp_units = hp.Int(\"units\", min_value=32, max_value=512, step=32)\n",
    "    model.add(keras.layers.Dense(units=hp_units, activation=\"relu\"))\n",
    "    model.add(keras.layers.Dense(10))\n",
    "\n",
    "    hp_learning_rate = hp.Choice(\"learning_rate\", values=[1e-2, 1e-3, 1e-4])\n",
    "\n",
    "    model.compile(optimizer=keras.optimizers.Adam(learning_rate=hp_learning_rate), loss=keras.losses.SparseCategoricalCrossentropy(from_logits=True), metrics=[\"accuracy\"])\n",
    "    \n",
    "    return model"
   ]
  },
  {
   "cell_type": "code",
   "execution_count": 15,
   "metadata": {},
   "outputs": [
    {
     "output_type": "stream",
     "name": "stdout",
     "text": [
      "INFO:tensorflow:Reloading Oracle from existing project my_dir/intro_to_kt/oracle.json\n",
      "INFO:tensorflow:Reloading Tuner from my_dir/intro_to_kt/tuner0.json\n"
     ]
    }
   ],
   "source": [
    "tuner = kt.Hyperband(model_builder, objective=\"val_accuracy\", max_epochs=10, factor=3, directory=\"my_dir\", project_name=\"intro_to_kt\")"
   ]
  },
  {
   "cell_type": "code",
   "execution_count": 16,
   "metadata": {},
   "outputs": [],
   "source": [
    "stop_early = tf.keras.callbacks.EarlyStopping(monitor=\"val_loss\", patience=5)"
   ]
  },
  {
   "cell_type": "code",
   "execution_count": 17,
   "metadata": {},
   "outputs": [
    {
     "output_type": "stream",
     "name": "stdout",
     "text": [
      "Trial 4 Complete [00h 00m 15s]\n",
      "val_accuracy: 0.875249981880188\n",
      "\n",
      "Best val_accuracy So Far: 0.8868333101272583\n",
      "Total elapsed time: 00h 01m 01s\n",
      "INFO:tensorflow:Oracle triggered exit\n",
      "The hyperparameter search is complete. The optimal number of units in the first dense layer is 416 and the optimal learning rate for the optimizer is 0.001.\n"
     ]
    }
   ],
   "source": [
    "tuner.search(img_train, label_train, epochs=50, validation_split=0.2, callbacks=[stop_early])\n",
    "\n",
    "best_hps= tuner.get_best_hyperparameters(num_trials=1)[0]\n",
    "\n",
    "print(f\"The hyperparameter search is complete. The optimal number of units in the first dense layer is {best_hps.get('units')} and the optimal learning rate for the optimizer is {best_hps.get('learning_rate')}.\")"
   ]
  },
  {
   "cell_type": "code",
   "execution_count": 18,
   "metadata": {},
   "outputs": [
    {
     "output_type": "stream",
     "name": "stdout",
     "text": [
      "Epoch 1/50\n",
      "1500/1500 [==============================] - 2s 1ms/step - loss: 0.6262 - accuracy: 0.7788 - val_loss: 0.3970 - val_accuracy: 0.8534\n",
      "Epoch 2/50\n",
      "1500/1500 [==============================] - 1s 998us/step - loss: 0.3826 - accuracy: 0.8608 - val_loss: 0.3732 - val_accuracy: 0.8628\n",
      "Epoch 3/50\n",
      "1500/1500 [==============================] - 2s 1ms/step - loss: 0.3323 - accuracy: 0.8784 - val_loss: 0.3538 - val_accuracy: 0.8723\n",
      "Epoch 4/50\n",
      "1500/1500 [==============================] - 2s 1ms/step - loss: 0.3060 - accuracy: 0.8870 - val_loss: 0.3295 - val_accuracy: 0.8810\n",
      "Epoch 5/50\n",
      "1500/1500 [==============================] - 2s 1ms/step - loss: 0.2843 - accuracy: 0.8940 - val_loss: 0.3508 - val_accuracy: 0.8786\n",
      "Epoch 6/50\n",
      "1500/1500 [==============================] - 2s 1ms/step - loss: 0.2679 - accuracy: 0.9003 - val_loss: 0.3185 - val_accuracy: 0.8875\n",
      "Epoch 7/50\n",
      "1500/1500 [==============================] - 2s 1ms/step - loss: 0.2576 - accuracy: 0.9033 - val_loss: 0.3056 - val_accuracy: 0.8896\n",
      "Epoch 8/50\n",
      "1500/1500 [==============================] - 2s 1ms/step - loss: 0.2415 - accuracy: 0.9073 - val_loss: 0.3188 - val_accuracy: 0.8856\n",
      "Epoch 9/50\n",
      "1500/1500 [==============================] - 2s 1ms/step - loss: 0.2334 - accuracy: 0.9131 - val_loss: 0.3172 - val_accuracy: 0.8884\n",
      "Epoch 10/50\n",
      "1500/1500 [==============================] - 2s 1ms/step - loss: 0.2217 - accuracy: 0.9195 - val_loss: 0.3177 - val_accuracy: 0.8907\n",
      "Epoch 11/50\n",
      "1500/1500 [==============================] - 2s 1ms/step - loss: 0.2192 - accuracy: 0.9186 - val_loss: 0.3294 - val_accuracy: 0.8852\n",
      "Epoch 12/50\n",
      "1500/1500 [==============================] - 2s 1ms/step - loss: 0.2009 - accuracy: 0.9239 - val_loss: 0.3158 - val_accuracy: 0.8935\n",
      "Epoch 13/50\n",
      "1500/1500 [==============================] - 2s 1ms/step - loss: 0.1998 - accuracy: 0.9226 - val_loss: 0.3266 - val_accuracy: 0.8903\n",
      "Epoch 14/50\n",
      "1500/1500 [==============================] - 2s 1ms/step - loss: 0.1871 - accuracy: 0.9296 - val_loss: 0.3284 - val_accuracy: 0.8897\n",
      "Epoch 15/50\n",
      "1500/1500 [==============================] - 2s 1ms/step - loss: 0.1814 - accuracy: 0.9324 - val_loss: 0.3224 - val_accuracy: 0.8978\n",
      "Epoch 16/50\n",
      "1500/1500 [==============================] - 2s 1ms/step - loss: 0.1788 - accuracy: 0.9321 - val_loss: 0.3284 - val_accuracy: 0.8931\n",
      "Epoch 17/50\n",
      "1500/1500 [==============================] - 1s 958us/step - loss: 0.1770 - accuracy: 0.9333 - val_loss: 0.3343 - val_accuracy: 0.8941\n",
      "Epoch 18/50\n",
      "1500/1500 [==============================] - 1s 976us/step - loss: 0.1627 - accuracy: 0.9377 - val_loss: 0.3418 - val_accuracy: 0.8903\n",
      "Epoch 19/50\n",
      "1500/1500 [==============================] - 1s 971us/step - loss: 0.1633 - accuracy: 0.9375 - val_loss: 0.3695 - val_accuracy: 0.8878\n",
      "Epoch 20/50\n",
      "1500/1500 [==============================] - 1s 984us/step - loss: 0.1559 - accuracy: 0.9412 - val_loss: 0.3408 - val_accuracy: 0.8963\n",
      "Epoch 21/50\n",
      "1500/1500 [==============================] - 1s 1000us/step - loss: 0.1488 - accuracy: 0.9437 - val_loss: 0.3629 - val_accuracy: 0.8925\n",
      "Epoch 22/50\n",
      "1500/1500 [==============================] - 1s 973us/step - loss: 0.1479 - accuracy: 0.9453 - val_loss: 0.3833 - val_accuracy: 0.8900\n",
      "Epoch 23/50\n",
      "1500/1500 [==============================] - 1s 974us/step - loss: 0.1463 - accuracy: 0.9446 - val_loss: 0.3445 - val_accuracy: 0.8965\n",
      "Epoch 24/50\n",
      "1500/1500 [==============================] - 1s 979us/step - loss: 0.1339 - accuracy: 0.9498 - val_loss: 0.3568 - val_accuracy: 0.8927\n",
      "Epoch 25/50\n",
      "1500/1500 [==============================] - 1s 971us/step - loss: 0.1366 - accuracy: 0.9488 - val_loss: 0.3751 - val_accuracy: 0.8957\n",
      "Epoch 26/50\n",
      "1500/1500 [==============================] - 1s 962us/step - loss: 0.1330 - accuracy: 0.9505 - val_loss: 0.3959 - val_accuracy: 0.8935\n",
      "Epoch 27/50\n",
      "1500/1500 [==============================] - 1s 982us/step - loss: 0.1210 - accuracy: 0.9552 - val_loss: 0.3998 - val_accuracy: 0.8897\n",
      "Epoch 28/50\n",
      "1500/1500 [==============================] - 1s 994us/step - loss: 0.1228 - accuracy: 0.9543 - val_loss: 0.4071 - val_accuracy: 0.8879\n",
      "Epoch 29/50\n",
      "1500/1500 [==============================] - 1s 959us/step - loss: 0.1201 - accuracy: 0.9553 - val_loss: 0.3825 - val_accuracy: 0.8982\n",
      "Epoch 30/50\n",
      "1500/1500 [==============================] - 1s 955us/step - loss: 0.1120 - accuracy: 0.9575 - val_loss: 0.4168 - val_accuracy: 0.8917\n",
      "Epoch 31/50\n",
      "1500/1500 [==============================] - 2s 1ms/step - loss: 0.1162 - accuracy: 0.9576 - val_loss: 0.4174 - val_accuracy: 0.8926\n",
      "Epoch 32/50\n",
      "1500/1500 [==============================] - 1s 976us/step - loss: 0.1105 - accuracy: 0.9610 - val_loss: 0.4252 - val_accuracy: 0.8918\n",
      "Epoch 33/50\n",
      "1500/1500 [==============================] - 1s 998us/step - loss: 0.1077 - accuracy: 0.9597 - val_loss: 0.4599 - val_accuracy: 0.8899\n",
      "Epoch 34/50\n",
      "1500/1500 [==============================] - 1s 993us/step - loss: 0.1013 - accuracy: 0.9622 - val_loss: 0.4248 - val_accuracy: 0.8935\n",
      "Epoch 35/50\n",
      "1500/1500 [==============================] - 1s 966us/step - loss: 0.1026 - accuracy: 0.9616 - val_loss: 0.4786 - val_accuracy: 0.8803\n",
      "Epoch 36/50\n",
      "1500/1500 [==============================] - 1s 961us/step - loss: 0.1010 - accuracy: 0.9615 - val_loss: 0.4375 - val_accuracy: 0.8955\n",
      "Epoch 37/50\n",
      "1500/1500 [==============================] - 1s 995us/step - loss: 0.0982 - accuracy: 0.9638 - val_loss: 0.4390 - val_accuracy: 0.8944\n",
      "Epoch 38/50\n",
      "1500/1500 [==============================] - 1s 982us/step - loss: 0.0915 - accuracy: 0.9660 - val_loss: 0.4401 - val_accuracy: 0.8967\n",
      "Epoch 39/50\n",
      "1500/1500 [==============================] - 2s 1ms/step - loss: 0.0936 - accuracy: 0.9649 - val_loss: 0.4844 - val_accuracy: 0.8926\n",
      "Epoch 40/50\n",
      "1500/1500 [==============================] - 2s 1ms/step - loss: 0.0942 - accuracy: 0.9658 - val_loss: 0.4805 - val_accuracy: 0.8899\n",
      "Epoch 41/50\n",
      "1500/1500 [==============================] - 1s 996us/step - loss: 0.0943 - accuracy: 0.9647 - val_loss: 0.4764 - val_accuracy: 0.8960\n",
      "Epoch 42/50\n",
      "1500/1500 [==============================] - 2s 1ms/step - loss: 0.0858 - accuracy: 0.9679 - val_loss: 0.4697 - val_accuracy: 0.8941\n",
      "Epoch 43/50\n",
      "1500/1500 [==============================] - 1s 996us/step - loss: 0.0858 - accuracy: 0.9677 - val_loss: 0.5193 - val_accuracy: 0.8899\n",
      "Epoch 44/50\n",
      "1500/1500 [==============================] - 2s 1ms/step - loss: 0.0845 - accuracy: 0.9670 - val_loss: 0.5039 - val_accuracy: 0.8933\n",
      "Epoch 45/50\n",
      "1500/1500 [==============================] - 1s 982us/step - loss: 0.0833 - accuracy: 0.9689 - val_loss: 0.5013 - val_accuracy: 0.8941\n",
      "Epoch 46/50\n",
      "1500/1500 [==============================] - 2s 1ms/step - loss: 0.0808 - accuracy: 0.9682 - val_loss: 0.5219 - val_accuracy: 0.8940\n",
      "Epoch 47/50\n",
      "1500/1500 [==============================] - 1s 997us/step - loss: 0.0786 - accuracy: 0.9711 - val_loss: 0.5295 - val_accuracy: 0.8894\n",
      "Epoch 48/50\n",
      "1500/1500 [==============================] - 1s 983us/step - loss: 0.0741 - accuracy: 0.9731 - val_loss: 0.5212 - val_accuracy: 0.8903\n",
      "Epoch 49/50\n",
      "1500/1500 [==============================] - 1s 969us/step - loss: 0.0735 - accuracy: 0.9727 - val_loss: 0.5210 - val_accuracy: 0.8929\n",
      "Epoch 50/50\n",
      "1500/1500 [==============================] - 1s 964us/step - loss: 0.0686 - accuracy: 0.9743 - val_loss: 0.5665 - val_accuracy: 0.8920\n",
      "Best epoch: 29\n"
     ]
    }
   ],
   "source": [
    "model = tuner.hypermodel.build(best_hps)\n",
    "\n",
    "history = model.fit(img_train, label_train, epochs=50, validation_split=0.2)\n",
    "\n",
    "val_acc_per_epoch = history.history[\"val_accuracy\"]\n",
    "best_epoch = val_acc_per_epoch.index(max(val_acc_per_epoch))+1\n",
    "\n",
    "print(\"Best epoch: %d\" % (best_epoch,))"
   ]
  },
  {
   "cell_type": "code",
   "execution_count": 19,
   "metadata": {},
   "outputs": [
    {
     "output_type": "stream",
     "name": "stdout",
     "text": [
      "Epoch 1/29\n",
      "313/313 [==============================] - 0s 1ms/step - loss: 0.8876 - accuracy: 0.6936\n",
      "Epoch 2/29\n",
      "313/313 [==============================] - 0s 1ms/step - loss: 0.5085 - accuracy: 0.8156\n",
      "Epoch 3/29\n",
      "313/313 [==============================] - 0s 1ms/step - loss: 0.4498 - accuracy: 0.8402\n",
      "Epoch 4/29\n",
      "313/313 [==============================] - 0s 1ms/step - loss: 0.4137 - accuracy: 0.8492\n",
      "Epoch 5/29\n",
      "313/313 [==============================] - 0s 1ms/step - loss: 0.3780 - accuracy: 0.8608\n",
      "Epoch 6/29\n",
      "313/313 [==============================] - 0s 1ms/step - loss: 0.3446 - accuracy: 0.8734\n",
      "Epoch 7/29\n",
      "313/313 [==============================] - 0s 1ms/step - loss: 0.3560 - accuracy: 0.8688\n",
      "Epoch 8/29\n",
      "313/313 [==============================] - 0s 1ms/step - loss: 0.3118 - accuracy: 0.8878\n",
      "Epoch 9/29\n",
      "313/313 [==============================] - 0s 1ms/step - loss: 0.2823 - accuracy: 0.8968\n",
      "Epoch 10/29\n",
      "313/313 [==============================] - 0s 1ms/step - loss: 0.2823 - accuracy: 0.8938\n",
      "Epoch 11/29\n",
      "313/313 [==============================] - 0s 1ms/step - loss: 0.2532 - accuracy: 0.9073\n",
      "Epoch 12/29\n",
      "313/313 [==============================] - 0s 1ms/step - loss: 0.2504 - accuracy: 0.9054\n",
      "Epoch 13/29\n",
      "313/313 [==============================] - 0s 1ms/step - loss: 0.2440 - accuracy: 0.9079\n",
      "Epoch 14/29\n",
      "313/313 [==============================] - 0s 1ms/step - loss: 0.2207 - accuracy: 0.9161\n",
      "Epoch 15/29\n",
      "313/313 [==============================] - 0s 1ms/step - loss: 0.2433 - accuracy: 0.9136\n",
      "Epoch 16/29\n",
      "313/313 [==============================] - 0s 975us/step - loss: 0.2041 - accuracy: 0.9249\n",
      "Epoch 17/29\n",
      "313/313 [==============================] - 0s 948us/step - loss: 0.1958 - accuracy: 0.9277\n",
      "Epoch 18/29\n",
      "313/313 [==============================] - 0s 953us/step - loss: 0.2028 - accuracy: 0.9232\n",
      "Epoch 19/29\n",
      "313/313 [==============================] - 0s 983us/step - loss: 0.1757 - accuracy: 0.9337\n",
      "Epoch 20/29\n",
      "313/313 [==============================] - 0s 1ms/step - loss: 0.1711 - accuracy: 0.9392\n",
      "Epoch 21/29\n",
      "313/313 [==============================] - 0s 976us/step - loss: 0.1590 - accuracy: 0.9406\n",
      "Epoch 22/29\n",
      "313/313 [==============================] - 0s 1ms/step - loss: 0.1561 - accuracy: 0.9420\n",
      "Epoch 23/29\n",
      "313/313 [==============================] - 0s 1ms/step - loss: 0.1531 - accuracy: 0.9448\n",
      "Epoch 24/29\n",
      "313/313 [==============================] - 0s 1ms/step - loss: 0.1406 - accuracy: 0.9459\n",
      "Epoch 25/29\n",
      "313/313 [==============================] - 0s 987us/step - loss: 0.1405 - accuracy: 0.9490\n",
      "Epoch 26/29\n",
      "313/313 [==============================] - 0s 961us/step - loss: 0.1402 - accuracy: 0.9441\n",
      "Epoch 27/29\n",
      "313/313 [==============================] - 0s 1ms/step - loss: 0.1152 - accuracy: 0.9594\n",
      "Epoch 28/29\n",
      "313/313 [==============================] - 0s 924us/step - loss: 0.1161 - accuracy: 0.9602\n",
      "Epoch 29/29\n",
      "313/313 [==============================] - 0s 1000us/step - loss: 0.1131 - accuracy: 0.9594\n"
     ]
    },
    {
     "output_type": "execute_result",
     "data": {
      "text/plain": [
       "<tensorflow.python.keras.callbacks.History at 0x7fc200429a30>"
      ]
     },
     "metadata": {},
     "execution_count": 19
    }
   ],
   "source": [
    "hypermodel = tuner.hypermodel.build(best_hps)\n",
    "\n",
    "hypermodel.fit(img_test, label_test, epochs=best_epoch)"
   ]
  },
  {
   "cell_type": "code",
   "execution_count": 20,
   "metadata": {},
   "outputs": [
    {
     "output_type": "stream",
     "name": "stdout",
     "text": [
      "313/313 [==============================] - 0s 882us/step - loss: 0.1451 - accuracy: 0.9453\n",
      "[test loss, test accuracy]:  [0.14513497054576874, 0.9452999830245972]\n"
     ]
    }
   ],
   "source": [
    "eval_result = hypermodel.evaluate(img_test, label_test)\n",
    "print(\"[test loss, test accuracy]: \", eval_result)"
   ]
  },
  {
   "cell_type": "code",
   "execution_count": null,
   "metadata": {},
   "outputs": [],
   "source": []
  }
 ]
}