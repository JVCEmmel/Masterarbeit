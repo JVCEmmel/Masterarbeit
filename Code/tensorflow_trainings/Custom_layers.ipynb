{
 "metadata": {
  "language_info": {
   "codemirror_mode": {
    "name": "ipython",
    "version": 3
   },
   "file_extension": ".py",
   "mimetype": "text/x-python",
   "name": "python",
   "nbconvert_exporter": "python",
   "pygments_lexer": "ipython3",
   "version": "3.8.5-final"
  },
  "orig_nbformat": 2,
  "kernelspec": {
   "name": "python38564bittensorflowvenvc5ae079d33a94b2797c1e2237094a841",
   "display_name": "Python 3.8.5 64-bit ('tensorflow': venv)",
   "language": "python"
  }
 },
 "nbformat": 4,
 "nbformat_minor": 2,
 "cells": [
  {
   "source": [
    "# Custom Layers  \n",
    "Quelle: [tensorflow](https://www.tensorflow.org/tutorials/customization/custom_layers?hl=en)"
   ],
   "cell_type": "markdown",
   "metadata": {}
  },
  {
   "cell_type": "code",
   "execution_count": 2,
   "metadata": {},
   "outputs": [],
   "source": [
    "import tensorflow as tf"
   ]
  },
  {
   "cell_type": "code",
   "execution_count": 6,
   "metadata": {},
   "outputs": [
    {
     "output_type": "stream",
     "name": "stdout",
     "text": [
      "True\n[LogicalDevice(name='/device:GPU:0', device_type='GPU')]\n"
     ]
    }
   ],
   "source": [
    "print(tf.test.is_gpu_available())\n",
    "print(tf.config.list_logical_devices(\"GPU\"))"
   ]
  },
  {
   "cell_type": "code",
   "execution_count": 8,
   "metadata": {},
   "outputs": [],
   "source": [
    "layer = tf.keras.layers.Dense(10, input_shape=(None, 5))"
   ]
  },
  {
   "cell_type": "code",
   "execution_count": 9,
   "metadata": {},
   "outputs": [
    {
     "output_type": "execute_result",
     "data": {
      "text/plain": [
       "<tf.Tensor: shape=(10, 10), dtype=float32, numpy=\n",
       "array([[0., 0., 0., 0., 0., 0., 0., 0., 0., 0.],\n",
       "       [0., 0., 0., 0., 0., 0., 0., 0., 0., 0.],\n",
       "       [0., 0., 0., 0., 0., 0., 0., 0., 0., 0.],\n",
       "       [0., 0., 0., 0., 0., 0., 0., 0., 0., 0.],\n",
       "       [0., 0., 0., 0., 0., 0., 0., 0., 0., 0.],\n",
       "       [0., 0., 0., 0., 0., 0., 0., 0., 0., 0.],\n",
       "       [0., 0., 0., 0., 0., 0., 0., 0., 0., 0.],\n",
       "       [0., 0., 0., 0., 0., 0., 0., 0., 0., 0.],\n",
       "       [0., 0., 0., 0., 0., 0., 0., 0., 0., 0.],\n",
       "       [0., 0., 0., 0., 0., 0., 0., 0., 0., 0.]], dtype=float32)>"
      ]
     },
     "metadata": {},
     "execution_count": 9
    }
   ],
   "source": [
    "layer(tf.zeros([10, 5]))"
   ]
  },
  {
   "cell_type": "code",
   "execution_count": 11,
   "metadata": {},
   "outputs": [
    {
     "output_type": "execute_result",
     "data": {
      "text/plain": [
       "[<tf.Variable 'dense_1/kernel:0' shape=(5, 10) dtype=float32, numpy=\n",
       " array([[-0.5430741 ,  0.06463063,  0.01894349,  0.19017333, -0.02280176,\n",
       "         -0.60000086, -0.24072915,  0.26931185, -0.57980645, -0.32264534],\n",
       "        [ 0.27044094, -0.58641976,  0.02129954, -0.36940974,  0.39131528,\n",
       "          0.48584086, -0.08930594, -0.14995182,  0.11577332, -0.15699142],\n",
       "        [ 0.37887448,  0.24926442,  0.20608473, -0.0739615 ,  0.5197621 ,\n",
       "          0.14928216, -0.38829184, -0.36253014, -0.37881628, -0.06499463],\n",
       "        [ 0.08864743, -0.22029525,  0.42354006, -0.08286208, -0.6173537 ,\n",
       "          0.20234907,  0.25220478,  0.09392762, -0.18638459, -0.02712774],\n",
       "        [-0.47769037, -0.17343798,  0.4864319 , -0.12127173,  0.12457263,\n",
       "          0.6072059 ,  0.21211869,  0.00310791,  0.32536662, -0.10275966]],\n",
       "       dtype=float32)>,\n",
       " <tf.Variable 'dense_1/bias:0' shape=(10,) dtype=float32, numpy=array([0., 0., 0., 0., 0., 0., 0., 0., 0., 0.], dtype=float32)>]"
      ]
     },
     "metadata": {},
     "execution_count": 11
    }
   ],
   "source": [
    "layer.trainable_variables"
   ]
  },
  {
   "cell_type": "code",
   "execution_count": 12,
   "metadata": {},
   "outputs": [
    {
     "output_type": "execute_result",
     "data": {
      "text/plain": [
       "<tf.Variable 'dense_1/kernel:0' shape=(5, 10) dtype=float32, numpy=\n",
       "array([[-0.5430741 ,  0.06463063,  0.01894349,  0.19017333, -0.02280176,\n",
       "        -0.60000086, -0.24072915,  0.26931185, -0.57980645, -0.32264534],\n",
       "       [ 0.27044094, -0.58641976,  0.02129954, -0.36940974,  0.39131528,\n",
       "         0.48584086, -0.08930594, -0.14995182,  0.11577332, -0.15699142],\n",
       "       [ 0.37887448,  0.24926442,  0.20608473, -0.0739615 ,  0.5197621 ,\n",
       "         0.14928216, -0.38829184, -0.36253014, -0.37881628, -0.06499463],\n",
       "       [ 0.08864743, -0.22029525,  0.42354006, -0.08286208, -0.6173537 ,\n",
       "         0.20234907,  0.25220478,  0.09392762, -0.18638459, -0.02712774],\n",
       "       [-0.47769037, -0.17343798,  0.4864319 , -0.12127173,  0.12457263,\n",
       "         0.6072059 ,  0.21211869,  0.00310791,  0.32536662, -0.10275966]],\n",
       "      dtype=float32)>"
      ]
     },
     "metadata": {},
     "execution_count": 12
    }
   ],
   "source": [
    "layer.kernel"
   ]
  },
  {
   "cell_type": "code",
   "execution_count": 13,
   "metadata": {},
   "outputs": [
    {
     "output_type": "execute_result",
     "data": {
      "text/plain": [
       "<tf.Variable 'dense_1/bias:0' shape=(10,) dtype=float32, numpy=array([0., 0., 0., 0., 0., 0., 0., 0., 0., 0.], dtype=float32)>"
      ]
     },
     "metadata": {},
     "execution_count": 13
    }
   ],
   "source": [
    "layer.bias"
   ]
  },
  {
   "cell_type": "code",
   "execution_count": null,
   "metadata": {},
   "outputs": [],
   "source": []
  }
 ]
}